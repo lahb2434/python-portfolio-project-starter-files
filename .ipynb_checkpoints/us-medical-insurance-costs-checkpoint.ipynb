{
 "cells": [
  {
   "cell_type": "markdown",
   "metadata": {},
   "source": [
    "# U.S. Medical Insurance Costs\n",
    "- Look at average cost and region.\n",
    "- Look at correlation between age and smoker.\n",
    "- Look at bmi, see if there are any correlations between bmi and smoker.\n",
    "- Cost based on gender, age, smoker.\n",
    "- Find out the average age of the patients in the dataset.\n",
    "- Analyze where a majority of the individuals are from.\n",
    "- Look at the different costs between smokers vs. non-smokers.\n",
    "- Figure out what the average age is for someone who has at least one child in this dataset."
   ]
  },
  {
   "cell_type": "code",
   "execution_count": 63,
   "metadata": {},
   "outputs": [],
   "source": [
    "# import python csv module to read and write tabular data in CSV format\n",
    "import csv"
   ]
  },
  {
   "cell_type": "code",
   "execution_count": 367,
   "metadata": {},
   "outputs": [],
   "source": [
    "# create empty list to store dict rows of medical insurance data\n",
    "medical_insurance_data = []\n",
    "\n",
    "# open csv file and parse data with Dictreader\n",
    "with open('insurance.csv', newline='') as insurance_data:\n",
    "    reader = csv.DictReader(insurance_data)\n",
    "    for row in reader:\n",
    "        medical_insurance_data.append(row)\n",
    "\n",
    "# sort data by lowest cost to highest       \n",
    "medical_insurance_data = sorted(medical_insurance_data, key=lambda y: round(float(y['charges'])))        \n",
    "                      \n",
    "# Almost created a bunch of lists to store corresponding data, then got bored and created global \n",
    "# lists based on keys, probably not supposed to do that.        \n",
    "for item in medical_insurance_data:\n",
    "    for key, value in item.items():\n",
    "        # try to append to a list if exists, if not handle error and create list\n",
    "        try:\n",
    "            globals()[key].append(value)\n",
    "        except:\n",
    "            globals()[key] = [value]"
   ]
  },
  {
   "cell_type": "code",
   "execution_count": 366,
   "metadata": {},
   "outputs": [
    {
     "name": "stdout",
     "output_type": "stream",
     "text": [
      "age = []\n",
      "sex = []\n",
      "bmi = []\n",
      "children = []\n",
      "smoker = []\n",
      "region = []\n",
      "charges = []\n"
     ]
    }
   ],
   "source": [
    "# list of keys\n",
    "for v in medical_insurance_data[0].keys():\n",
    "    print(f'{v} = []')"
   ]
  },
  {
   "cell_type": "code",
   "execution_count": 133,
   "metadata": {},
   "outputs": [
    {
     "name": "stdout",
     "output_type": "stream",
     "text": [
      "19 female 27.9 0 yes southwest 16884.924\n",
      "{'age': '18', 'sex': 'male', 'bmi': '23.21', 'children': '0', 'smoker': 'no', 'region': 'southeast', 'charges': '1121.8739'}\n"
     ]
    }
   ],
   "source": [
    "# code illustrating that lists were succesfully created\n",
    "print(age[0], sex[0], bmi[0], children[0], smoker[0], region[0], charges[0])\n",
    "print(medical_insurance_data[0])"
   ]
  },
  {
   "cell_type": "code",
   "execution_count": 134,
   "metadata": {},
   "outputs": [],
   "source": [
    "def charges_total(charges):\n",
    "    total_charges = 0\n",
    "    for value in charges:\n",
    "        total_charges += float(value)\n",
    "    return total_charges"
   ]
  },
  {
   "cell_type": "code",
   "execution_count": 135,
   "metadata": {},
   "outputs": [
    {
     "data": {
      "text/plain": [
       "13270.42"
      ]
     },
     "execution_count": 135,
     "metadata": {},
     "output_type": "execute_result"
    }
   ],
   "source": [
    "# Average cost of insurance\n",
    "\n",
    "def average_insurance_cost(charges):\n",
    "    return round(charges_total(charges) / len(charges), 2)\n",
    "        \n",
    "average_insurance_cost(charges)"
   ]
  },
  {
   "cell_type": "code",
   "execution_count": 107,
   "metadata": {},
   "outputs": [
    {
     "name": "stdout",
     "output_type": "stream",
     "text": [
      "\n",
      "The average cost for being male is 13956.75 from 2028 males\n",
      "The average cost for being female is 12569.58 from 1986 females\n",
      "\n"
     ]
    }
   ],
   "source": [
    "# Find average cost of health insurace for male vs female to see if there is a bias  \n",
    "\n",
    "def average_gender_cost(charges, sex):\n",
    "    \n",
    "    gender_dataset = {\n",
    "        \"male\": {\"total\": 0, \"total_charge\": 0}, \n",
    "        \"female\": {\"total\": 0, \"total_charge\": 0}, \n",
    "    }\n",
    "    \n",
    "    for index, gender in enumerate(sex):\n",
    "        gender_dataset[gender]['total'] += 1\n",
    "        gender_dataset[gender]['total_charge'] += float(charges[index])\n",
    "    \n",
    "    male_total, male_total_charge = gender_dataset['male'].values()\n",
    "    female_total, female_total_charge = gender_dataset['female'].values()\n",
    "    \n",
    "    gender_dataset.get('male')[\"male_average_cost\"] = male_total_charge / male_total\n",
    "   \n",
    "    gender_dataset.get('female')[\"female_average_cost\"] = female_total_charge / female_total\n",
    "    \n",
    "    return gender_dataset\n",
    "        \n",
    "male, female = average_gender_cost(charges, sex).values() \n",
    "\n",
    "male_total, male_total_charge, male_average_cost = male.values()\n",
    "female_total, female_total_charge, female_average_cost = female.values()\n",
    "\n",
    "print(f'''\n",
    "The average cost for being male is {round(male_average_cost, 2)} from {male_total} males\n",
    "The average cost for being female is {round(female_average_cost, 2)} from {female_total} females\n",
    "\n",
    "''')\n",
    "    "
   ]
  },
  {
   "cell_type": "code",
   "execution_count": null,
   "metadata": {},
   "outputs": [],
   "source": []
  },
  {
   "cell_type": "code",
   "execution_count": 150,
   "metadata": {},
   "outputs": [
    {
     "data": {
      "text/plain": [
       "{'southeast': {'charges': 5363690.8739, 'count': 364},\n",
       " 'southwest': {'charges': 4012752.26, 'count': 325},\n",
       " 'northwest': {'charges': 4035713.3402, 'count': 325},\n",
       " 'northeast': {'charges': 4343658.796399999, 'count': 324}}"
      ]
     },
     "execution_count": 150,
     "metadata": {},
     "output_type": "execute_result"
    }
   ],
   "source": [
    "# find most expensive region \n",
    "def most_expensive_region(medical_insurance_data):\n",
    "    charges_by_region = {}\n",
    "    for row in medical_insurance_data:\n",
    "        if row['region'] in charges_by_region:\n",
    "            charges_by_region[row['region']]['charges'] += round(float(row['charges']))\n",
    "            charges_by_region[row['region']]['count'] += 1\n",
    "        else: \n",
    "            charges_by_region[row['region']] = {'charges': float(row['charges']), 'count': 1}\n",
    "            \n",
    "    return charges_by_region\n",
    "           \n",
    "most_expensive_region(medical_insurance_data)\n",
    "\n"
   ]
  },
  {
   "cell_type": "code",
   "execution_count": 92,
   "metadata": {},
   "outputs": [
    {
     "name": "stdout",
     "output_type": "stream",
     "text": [
      "\n",
      "Although there is a large increase in cost with smoking from this data there doesnt appear to be an association\n",
      "between BMI and smoking.\n",
      "Out of 822 smokers the average bmi is 31 with an average insurance cost of 32050.\n",
      "Out of 3192 non-smokers the average bmi is 31 with an average insurance cost of 8434.\n",
      "Smoking does not affect BMI, Smoking does affect insurance cost presumably due to its toxic nature and the assumption\n",
      "that smokers will require more medical attention in their lifetime.\n",
      "The smoking population makes up %49 of the total cost.\n",
      "\n"
     ]
    }
   ],
   "source": [
    "def smoker_correlations(smoker, bmi, charges):\n",
    "    '''Function to find if smoking and bmi have any correlation using smoker, bmi, charges lists'''\n",
    "#   create dictionaries to hold information on smokers and non smokers\n",
    "    smoker_totals = {\"smoker_cost\": 0, \"smoker_bmi\": 0, \"smoker_count\": 0}\n",
    "    non_smoker_totals = {\"non_smoker_cost\": 0, \"non_smoker_bmi\": 0, \"non_smoker_count\": 0}\n",
    "    \n",
    "#   iterate over lists and collect data\n",
    "    for index, item in enumerate(smoker):\n",
    "        if item == 'yes':\n",
    "            smoker_totals['smoker_cost'] += float(charges[index])\n",
    "            smoker_totals['smoker_bmi'] += float(bmi[index])\n",
    "            smoker_totals['smoker_count'] += 1\n",
    "        else:\n",
    "            non_smoker_totals['non_smoker_cost'] += float(charges[index])\n",
    "            non_smoker_totals['non_smoker_bmi'] += float(bmi[index])\n",
    "            non_smoker_totals['non_smoker_count'] += 1\n",
    "    \n",
    "    st = smoker_totals\n",
    "    nst = non_smoker_totals\n",
    "    \n",
    "    return st, nst\n",
    "  \n",
    "st, nst = smoker_correlations(smoker, bmi, charges)\n",
    "\n",
    "# unpack and assign\n",
    "smoker_cost, smoker_bmi, smoker_count = st.values()\n",
    "non_smoker_cost, non_smoker_bmi, non_smoker_count = nst.values()\n",
    "\n",
    "print(f'''\n",
    "Although there is a large increase in cost with smoking, from this data there doesn't appear to be an association\n",
    "between BMI and smoking.\n",
    "Out of {smoker_count} smokers the average bmi is {round(smoker_bmi / smoker_count)} with an average insurance cost of {round(smoker_cost / smoker_count)}.\n",
    "Out of {non_smoker_count} non-smokers the average bmi is {round(non_smoker_bmi / non_smoker_count)} with an average insurance cost of {round(non_smoker_cost / non_smoker_count)}.\n",
    "Smoking does not affect BMI, Smoking does affect insurance cost presumably due to its toxic nature and the assumption\n",
    "that smokers will require more medical attention in their lifetime.\n",
    "The smoking population makes up %{round(smoker_cost / charges_total(charges) * 100)} of the total cost.\n",
    "''')\n"
   ]
  },
  {
   "cell_type": "code",
   "execution_count": 437,
   "metadata": {
    "scrolled": false
   },
   "outputs": [],
   "source": [
    "def base_costs_by_region_and_bmi(reg):\n",
    "    constants = []\n",
    "    print(reg)\n",
    "    for num in range(18, 60):\n",
    "        lst = filter(lambda x: (x['smoker'] == 'no' \n",
    "                          and x['age'] == str(num) \n",
    "                          and x['children'] == '0' \n",
    "                          and x['sex'] == 'male'\n",
    "                          and x['region'] == reg), medical_insurance_data)\n",
    "    \n",
    "    \n",
    "        srt_lst = sorted([*lst], key=lambda y: round(float(y['charges'])))\n",
    "        \n",
    "        if len(srt_lst) > 1:\n",
    "            first_charges = float(srt_lst[0]['charges'])\n",
    "            last_charges = float(srt_lst[1]['charges'])\n",
    "            first_bmi = float(srt_lst[0]['bmi'])\n",
    "            last_bmi = float(srt_lst[1]['bmi'])\n",
    "            \n",
    "            bmi_increase = round((last_charges - first_charges)/(last_bmi - first_bmi), 5)\n",
    "            base_ammount = first_charges - (first_bmi * bmi_increase)\n",
    "#             print(f\"{reg} bmi cost increase {bmi_increase} for every 0.1 bmi increase starting @ {base_ammount} for males\") \n",
    "            print(f'base amount for age: {num} is {base_ammount}')\n",
    "            constants.append(bmi_increase)\n",
    "                \n",
    "    return sorted(constants)[round(len(constants)/2)]\n"
   ]
  },
  {
   "cell_type": "code",
   "execution_count": 435,
   "metadata": {},
   "outputs": [
    {
     "name": "stdout",
     "output_type": "stream",
     "text": [
      "{'southwest', 'northwest', 'northeast', 'southeast'}\n"
     ]
    }
   ],
   "source": [
    "regions = set(region)\n",
    "print(regions)"
   ]
  },
  {
   "cell_type": "code",
   "execution_count": 438,
   "metadata": {},
   "outputs": [
    {
     "name": "stdout",
     "output_type": "stream",
     "text": [
      "southwest\n",
      "southwest\n",
      "base amount for age: 19 is 1214.043\n",
      "southwest\n",
      "southwest\n",
      "southwest\n",
      "southwest\n",
      "southwest\n",
      "base amount for age: 24 is 1937.088\n",
      "southwest\n",
      "southwest\n",
      "southwest\n",
      "southwest\n",
      "southwest\n",
      "southwest\n",
      "southwest\n",
      "southwest\n",
      "southwest\n",
      "southwest\n",
      "southwest\n",
      "southwest\n",
      "southwest\n",
      "base amount for age: 37 is 490481.20502\n",
      "southwest\n",
      "southwest\n",
      "southwest\n",
      "southwest\n",
      "southwest\n",
      "base amount for age: 42 is 5932.332\n",
      "southwest\n",
      "southwest\n",
      "southwest\n",
      "southwest\n",
      "base amount for age: 46 is -66299.60010600001\n",
      "southwest\n",
      "southwest\n",
      "southwest\n",
      "southwest\n",
      "base amount for age: 50 is 8407.5\n",
      "southwest\n",
      "base amount for age: 51 is 8747.162999999999\n",
      "southwest\n",
      "southwest\n",
      "southwest\n",
      "southwest\n",
      "base amount for age: 55 is -31870.209906999997\n",
      "southwest\n",
      "base amount for age: 56 is 10546.368\n",
      "southwest\n",
      "base amount for age: 57 is 10926.387\n",
      "southwest\n",
      "base amount for age: 58 is 11313.132\n",
      "southwest\n",
      "1.39\n",
      "northwest\n",
      "northwest\n",
      "base amount for age: 19 is 1597.0430000000001\n",
      "northwest\n",
      "northwest\n",
      "base amount for age: 21 is 1866.083\n",
      "northwest\n",
      "base amount for age: 22 is 2010.692\n",
      "northwest\n",
      "northwest\n",
      "northwest\n",
      "base amount for age: 25 is 2484.875\n",
      "northwest\n",
      "base amount for age: 26 is 2656.3880000000004\n",
      "northwest\n",
      "northwest\n",
      "base amount for age: 28 is -171083.26372875\n",
      "northwest\n",
      "northwest\n",
      "northwest\n",
      "northwest\n",
      "northwest\n",
      "northwest\n",
      "northwest\n",
      "northwest\n",
      "northwest\n",
      "northwest\n",
      "northwest\n",
      "northwest\n",
      "northwest\n",
      "northwest\n",
      "northwest\n",
      "northwest\n",
      "northwest\n",
      "northwest\n",
      "northwest\n",
      "northwest\n",
      "northwest\n",
      "northwest\n",
      "base amount for age: 50 is 8790.5\n",
      "northwest\n",
      "northwest\n",
      "northwest\n",
      "base amount for age: 53 is 9829.667\n",
      "northwest\n",
      "base amount for age: 54 is 2275183.0988423005\n",
      "northwest\n",
      "base amount for age: 55 is 10556.075\n",
      "northwest\n",
      "northwest\n",
      "base amount for age: 57 is 11309.387\n",
      "northwest\n",
      "base amount for age: 58 is 11696.132\n",
      "northwest\n",
      "base amount for age: 59 is 12089.603\n",
      "1.39\n",
      "northeast\n",
      "base amount for age: 18 is 1672.6119999999999\n",
      "northeast\n",
      "northeast\n",
      "base amount for age: 20 is 1928.2\n",
      "northeast\n",
      "base amount for age: 21 is 2066.083\n",
      "northeast\n",
      "base amount for age: 22 is 2210.692\n",
      "northeast\n",
      "base amount for age: 23 is 2362.027\n",
      "northeast\n",
      "northeast\n",
      "base amount for age: 25 is 2684.875\n",
      "northeast\n",
      "northeast\n",
      "northeast\n",
      "northeast\n",
      "northeast\n",
      "northeast\n",
      "northeast\n",
      "northeast\n",
      "northeast\n",
      "base amount for age: 34 is 4470.628\n",
      "northeast\n",
      "northeast\n",
      "northeast\n",
      "northeast\n",
      "northeast\n",
      "northeast\n",
      "northeast\n",
      "northeast\n",
      "northeast\n",
      "northeast\n",
      "northeast\n",
      "northeast\n",
      "northeast\n",
      "northeast\n",
      "northeast\n",
      "northeast\n",
      "northeast\n",
      "northeast\n",
      "northeast\n",
      "northeast\n",
      "base amount for age: 54 is 10389.508\n",
      "northeast\n",
      "northeast\n",
      "northeast\n",
      "base amount for age: 57 is 11509.386999999999\n",
      "northeast\n",
      "base amount for age: 58 is 11896.132\n",
      "northeast\n",
      "1.39\n",
      "southeast\n",
      "base amount for age: 18 is 1089.612\n",
      "southeast\n",
      "southeast\n",
      "southeast\n",
      "base amount for age: 21 is 1483.083\n",
      "southeast\n",
      "base amount for age: 22 is 1627.692\n",
      "southeast\n",
      "base amount for age: 23 is 1779.027\n",
      "southeast\n",
      "base amount for age: 24 is 1937.088\n",
      "southeast\n",
      "southeast\n",
      "southeast\n",
      "base amount for age: 27 is 2451.627\n",
      "southeast\n",
      "southeast\n",
      "southeast\n",
      "southeast\n",
      "southeast\n",
      "southeast\n",
      "southeast\n",
      "southeast\n",
      "southeast\n",
      "southeast\n",
      "southeast\n",
      "southeast\n",
      "southeast\n",
      "base amount for age: 40 is 5380.799999999999\n",
      "southeast\n",
      "base amount for age: 41 is 5653.2029999999995\n",
      "southeast\n",
      "southeast\n",
      "southeast\n",
      "southeast\n",
      "southeast\n",
      "southeast\n",
      "southeast\n",
      "base amount for age: 48 is 7748.352\n",
      "southeast\n",
      "base amount for age: 49 is 8074.563\n",
      "southeast\n",
      "southeast\n",
      "southeast\n",
      "southeast\n",
      "base amount for age: 53 is 9446.667000000001\n",
      "southeast\n",
      "southeast\n",
      "base amount for age: 55 is 86751.518304\n",
      "southeast\n",
      "southeast\n",
      "southeast\n",
      "base amount for age: 58 is 11313.132\n",
      "southeast\n",
      "1.39\n"
     ]
    }
   ],
   "source": [
    "for area in regions:\n",
    "      print(base_costs_by_region_and_bmi(area))"
   ]
  },
  {
   "cell_type": "code",
   "execution_count": null,
   "metadata": {},
   "outputs": [],
   "source": []
  },
  {
   "cell_type": "code",
   "execution_count": null,
   "metadata": {},
   "outputs": [],
   "source": [
    "sorted([*filter(lambda x: x['smoker'] == 'yes', medical_insurance_data)], key=lambda y: y['charges'], reverse=True)"
   ]
  }
 ],
 "metadata": {
  "kernelspec": {
   "display_name": "Python 3 (ipykernel)",
   "language": "python",
   "name": "python3"
  },
  "language_info": {
   "codemirror_mode": {
    "name": "ipython",
    "version": 3
   },
   "file_extension": ".py",
   "mimetype": "text/x-python",
   "name": "python",
   "nbconvert_exporter": "python",
   "pygments_lexer": "ipython3",
   "version": "3.9.7"
  }
 },
 "nbformat": 4,
 "nbformat_minor": 4
}
