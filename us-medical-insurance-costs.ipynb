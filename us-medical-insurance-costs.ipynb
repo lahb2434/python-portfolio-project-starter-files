{
 "cells": [
  {
   "cell_type": "markdown",
   "metadata": {},
   "source": [
    "# U.S. Medical Insurance Costs\n",
    "- Look at average cost and region.\n",
    "- Look at correlation between age and smoker.\n",
    "- Look at bmi, see if there are any correlations between bmi and smoker.\n",
    "- Cost based on gender, age, smoker.\n",
    "- Find out the average age of the patients in the dataset.\n",
    "- Analyze where a majority of the individuals are from.\n",
    "- Look at the different costs between smokers vs. non-smokers.\n",
    "- Figure out what the average age is for someone who has at least one child in this dataset."
   ]
  },
  {
   "cell_type": "code",
   "execution_count": 1,
   "metadata": {},
   "outputs": [],
   "source": [
    "# import python csv module to read and write tabular data in CSV format\n",
    "import csv"
   ]
  },
  {
   "cell_type": "code",
   "execution_count": 2,
   "metadata": {},
   "outputs": [],
   "source": [
    "# create empty list to store dict rows of medical insurance data\n",
    "medical_insurance_data = []\n",
    "\n",
    "# Almost created a bunch of lists to store corresponding data, then got bored and created global \n",
    "# lists based on keys, probably not supposed to do that.\n",
    "\n",
    "with open('insurance.csv', newline='') as insurance_data:\n",
    "    reader = csv.DictReader(insurance_data)\n",
    "    for row in reader:\n",
    "        medical_insurance_data.append(row)\n",
    "        for key, value in row.items():\n",
    "            # try to append to a list if exists, if not handle error and create list\n",
    "            try:\n",
    "                globals()[key].append(value)\n",
    "            except:\n",
    "                globals()[key] = [value]"
   ]
  },
  {
   "cell_type": "code",
   "execution_count": 3,
   "metadata": {},
   "outputs": [
    {
     "name": "stdout",
     "output_type": "stream",
     "text": [
      "age = []\n",
      "sex = []\n",
      "bmi = []\n",
      "children = []\n",
      "smoker = []\n",
      "region = []\n",
      "charges = []\n"
     ]
    }
   ],
   "source": [
    "# list of keys\n",
    "for v in medical_insurance_data[0].keys():\n",
    "    print(f'{v} = []')"
   ]
  },
  {
   "cell_type": "code",
   "execution_count": 4,
   "metadata": {},
   "outputs": [
    {
     "name": "stdout",
     "output_type": "stream",
     "text": [
      "19 female 27.9 0 yes southwest 16884.924\n",
      "{'age': '19', 'sex': 'female', 'bmi': '27.9', 'children': '0', 'smoker': 'yes', 'region': 'southwest', 'charges': '16884.924'}\n"
     ]
    }
   ],
   "source": [
    "# code illustrating that lists were succesfully created\n",
    "print(age[0], sex[0], bmi[0], children[0], smoker[0], region[0], charges[0])\n",
    "print(medical_insurance_data[0])"
   ]
  },
  {
   "cell_type": "code",
   "execution_count": 20,
   "metadata": {},
   "outputs": [
    {
     "data": {
      "text/plain": [
       "13270.42"
      ]
     },
     "execution_count": 20,
     "metadata": {},
     "output_type": "execute_result"
    }
   ],
   "source": [
    "# Average cost of insurance\n",
    "\n",
    "def average_insurance_cost(charges):\n",
    "    total_charges = 0\n",
    "    for charge in charges:\n",
    "        total_charges += float(charge)\n",
    "    return round(total_charges / len(charges), 2)\n",
    "        \n",
    "average_insurance_cost(charges)"
   ]
  },
  {
   "cell_type": "code",
   "execution_count": 34,
   "metadata": {},
   "outputs": [
    {
     "data": {
      "text/plain": [
       "(676, 9434763.796139995, 13956.75, 662, 8321061.194618994, 12569.58)"
      ]
     },
     "execution_count": 34,
     "metadata": {},
     "output_type": "execute_result"
    }
   ],
   "source": [
    "# Find average cost of health insurace for male vs female to see if there is a bias  \n",
    "\n",
    "def average_gender_cost(charges, sex):\n",
    "    \n",
    "    gender_dataset = {\n",
    "        \"male\": {\"total\": 0, \"total_charge\": 0}, \n",
    "        \"female\": {\"total\": 0, \"total_charge\": 0}, \n",
    "    }\n",
    "    \n",
    "    for index, gender in enumerate(sex):\n",
    "        gender_dataset[gender]['total'] += 1\n",
    "        gender_dataset[gender]['total_charge'] += float(charges[index])\n",
    "    \n",
    "    male_total, male_total_charge = gender_dataset['male'].values()\n",
    "    female_total, female_total_charge = gender_dataset['female'].values()\n",
    "    \n",
    "    male_average_cost = male_total_charge / male_total\n",
    "   \n",
    "    female_average_cost = female_total_charge / female_total\n",
    "    \n",
    "    return male_total, male_total_charge, male_average_cost, female_total, female_total_charge, female_average_cost\n",
    "        \n",
    "average_gender_cost(charges, sex)        \n",
    "    "
   ]
  },
  {
   "cell_type": "code",
   "execution_count": 22,
   "metadata": {},
   "outputs": [
    {
     "data": {
      "text/plain": [
       "1338"
      ]
     },
     "execution_count": 22,
     "metadata": {},
     "output_type": "execute_result"
    }
   ],
   "source": []
  },
  {
   "cell_type": "code",
   "execution_count": 128,
   "metadata": {},
   "outputs": [
    {
     "data": {
      "text/plain": [
       "(12346.928996923078,\n",
       " 14735.413605219781,\n",
       " 12417.579909569231,\n",
       " 13406.356205864196)"
      ]
     },
     "execution_count": 128,
     "metadata": {},
     "output_type": "execute_result"
    }
   ],
   "source": [
    "# find most expensive region \n",
    "def most_expensive_region(medical_insurance_data):\n",
    "    charges_by_region = {}\n",
    "    for row in medical_insurance_data:\n",
    "        if row['region'] in charges_by_region:\n",
    "            charges_by_region[row['region']]['charges'] += round(float(row['charges']))\n",
    "            charges_by_region[row['region']]['count'] += 1\n",
    "        else: \n",
    "            charges_by_region[row['region']] = {'charges': float(row['charges']), 'count': 1}\n",
    "            \n",
    "    for region in charges_by_region:\n",
    "        for key, value in charges_by_region[region].items():\n",
    "            exec(f'{region}_{key} = {value}')\n",
    "            \n",
    "    southwest_average = southwest_charges / southwest_count\n",
    "    southeast_average = southeast_charges / southeast_count\n",
    "    northwest_average = northwest_charges / northwest_count\n",
    "    northeast_average = northeast_charges / northeast_count\n",
    "    \n",
    "    return( \n",
    "        southwest_average,\n",
    "        southeast_average,\n",
    "        northwest_average,\n",
    "        northeast_average)\n",
    "    \n",
    "    \n",
    "            \n",
    "most_expensive_region(medical_insurance_data)\n"
   ]
  },
  {
   "cell_type": "code",
   "execution_count": null,
   "metadata": {},
   "outputs": [],
   "source": []
  },
  {
   "cell_type": "code",
   "execution_count": null,
   "metadata": {},
   "outputs": [],
   "source": []
  },
  {
   "cell_type": "code",
   "execution_count": null,
   "metadata": {},
   "outputs": [],
   "source": []
  },
  {
   "cell_type": "code",
   "execution_count": null,
   "metadata": {},
   "outputs": [],
   "source": []
  }
 ],
 "metadata": {
  "kernelspec": {
   "display_name": "Python 3 (ipykernel)",
   "language": "python",
   "name": "python3"
  },
  "language_info": {
   "codemirror_mode": {
    "name": "ipython",
    "version": 3
   },
   "file_extension": ".py",
   "mimetype": "text/x-python",
   "name": "python",
   "nbconvert_exporter": "python",
   "pygments_lexer": "ipython3",
   "version": "3.9.7"
  }
 },
 "nbformat": 4,
 "nbformat_minor": 4
}
