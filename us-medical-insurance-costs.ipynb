{
 "cells": [
  {
   "cell_type": "markdown",
   "metadata": {},
   "source": [
    "# U.S. Medical Insurance Costs\n",
    "\n",
    "### Look over data in csv file.\n",
    "#### Import csv for parsing and saving data to lists"
   ]
  },
  {
   "cell_type": "code",
   "execution_count": 1,
   "metadata": {},
   "outputs": [],
   "source": [
    "# import python csv module to read and write tabular data in CSV format\n",
    "import csv"
   ]
  },
  {
   "cell_type": "code",
   "execution_count": 2,
   "metadata": {},
   "outputs": [],
   "source": [
    "# create empty list to store dict rows of medical insurance data\n",
    "medical_insurance_data = []\n",
    "\n",
    "# open csv file and parse data with Dictreader\n",
    "with open('insurance.csv', newline='') as insurance_data:\n",
    "    reader = csv.DictReader(insurance_data)\n",
    "    for row in reader:\n",
    "        medical_insurance_data.append(row)\n",
    "\n",
    "# sort data by lowest cost to highest       \n",
    "medical_insurance_data = sorted(medical_insurance_data, key=lambda y: round(float(y['charges'])))        \n",
    "                      \n",
    "# Almost created a bunch of lists to store corresponding data, then got bored and created global \n",
    "# lists based on keys, probably not supposed to do that.        \n",
    "for item in medical_insurance_data:\n",
    "    for key, value in item.items():\n",
    "        # try to append to a list if exists, if not handle error and create list\n",
    "        try:\n",
    "            globals()[key].append(value)\n",
    "        except:\n",
    "            globals()[key] = [value]"
   ]
  },
  {
   "cell_type": "code",
   "execution_count": 3,
   "metadata": {},
   "outputs": [
    {
     "name": "stdout",
     "output_type": "stream",
     "text": [
      "age = []\n",
      "sex = []\n",
      "bmi = []\n",
      "children = []\n",
      "smoker = []\n",
      "region = []\n",
      "charges = []\n"
     ]
    }
   ],
   "source": [
    "# list of keys\n",
    "for v in medical_insurance_data[0].keys():\n",
    "    print(f'{v} = []')"
   ]
  },
  {
   "cell_type": "code",
   "execution_count": 4,
   "metadata": {},
   "outputs": [
    {
     "name": "stdout",
     "output_type": "stream",
     "text": [
      "18 male 23.21 0 no southeast 1121.8739\n",
      "{'age': '18', 'sex': 'male', 'bmi': '23.21', 'children': '0', 'smoker': 'no', 'region': 'southeast', 'charges': '1121.8739'}\n"
     ]
    }
   ],
   "source": [
    "# code illustrating that lists were succesfully created\n",
    "print(age[0], sex[0], bmi[0], children[0], smoker[0], region[0], charges[0])\n",
    "print(medical_insurance_data[0])"
   ]
  },
  {
   "cell_type": "markdown",
   "metadata": {},
   "source": [
    "### Brainstorm some possible ideas for analysis.\n",
    "\n",
    "- Look at average cost and region.\n",
    "- Look at correlation between age and smoker.\n",
    "- Look at bmi, see if there are any correlations between bmi and smoker.\n",
    "- Cost based on gender, age, smoker.\n",
    "- Find out the average age of the patients in the dataset.\n",
    "- Analyze where a majority of the individuals are from.\n",
    "- Look at the different costs between smokers vs. non-smokers.\n",
    "- Figure out what the average age is for someone who has at least one child in this dataset."
   ]
  },
  {
   "cell_type": "code",
   "execution_count": 5,
   "metadata": {},
   "outputs": [],
   "source": [
    "# method for summing up the total of charges after changing string into float\n",
    "def charges_total(charges):\n",
    "    total_charges = 0\n",
    "    for value in charges:\n",
    "        total_charges += float(value)\n",
    "    return total_charges"
   ]
  },
  {
   "cell_type": "code",
   "execution_count": 6,
   "metadata": {},
   "outputs": [
    {
     "name": "stdout",
     "output_type": "stream",
     "text": [
      "\n",
      "The average cost of insurance is $13270.42 from 1338 customers. This does not\n",
      "take into account the outliers.\n",
      "\n"
     ]
    }
   ],
   "source": [
    "# method for finding average cost of insurance\n",
    "\n",
    "def average_insurance_cost(charges):\n",
    "    return round(charges_total(charges) / len(charges), 2)\n",
    "        \n",
    "average_insurance_cost(charges)\n",
    "\n",
    "print(f'''\n",
    "The average cost of insurance is ${average_insurance_cost(charges)} from {len(charges)} customers. This does not\n",
    "take into account the outliers.\n",
    "''')"
   ]
  },
  {
   "cell_type": "code",
   "execution_count": 7,
   "metadata": {},
   "outputs": [
    {
     "name": "stdout",
     "output_type": "stream",
     "text": [
      "\n",
      "The average cost for being male is 13956.75 from 676 males\n",
      "The average cost for being female is 12569.58 from 662 females\n",
      "\n"
     ]
    }
   ],
   "source": [
    "# Find average cost of health insurace for male vs female to see if there is a bias  \n",
    "\n",
    "def average_gender_cost(charges, sex):\n",
    "    \n",
    "    gender_dataset = {\n",
    "        \"male\": {\"total\": 0, \"total_charge\": 0}, \n",
    "        \"female\": {\"total\": 0, \"total_charge\": 0}, \n",
    "    }\n",
    "    \n",
    "    for index, gender in enumerate(sex):\n",
    "        gender_dataset[gender]['total'] += 1\n",
    "        gender_dataset[gender]['total_charge'] += float(charges[index])\n",
    "    \n",
    "    male_total, male_total_charge = gender_dataset['male'].values()\n",
    "    female_total, female_total_charge = gender_dataset['female'].values()\n",
    "    \n",
    "    gender_dataset.get('male')[\"male_average_cost\"] = male_total_charge / male_total\n",
    "   \n",
    "    gender_dataset.get('female')[\"female_average_cost\"] = female_total_charge / female_total\n",
    "    \n",
    "    return gender_dataset\n",
    "        \n",
    "male, female = average_gender_cost(charges, sex).values() \n",
    "\n",
    "male_total, male_total_charge, male_average_cost = male.values()\n",
    "female_total, female_total_charge, female_average_cost = female.values()\n",
    "\n",
    "print(f'''\n",
    "The average cost for being male is {round(male_average_cost, 2)} from {male_total} males\n",
    "The average cost for being female is {round(female_average_cost, 2)} from {female_total} females\n",
    "''')\n",
    "    "
   ]
  },
  {
   "cell_type": "code",
   "execution_count": 8,
   "metadata": {},
   "outputs": [
    {
     "name": "stdout",
     "output_type": "stream",
     "text": [
      "The southeast average cost of insurance is $14735.41\n",
      "The southwest average cost of insurance is $12346.93\n",
      "The northwest average cost of insurance is $12417.58\n",
      "The northeast average cost of insurance is $13406.35\n"
     ]
    }
   ],
   "source": [
    "# find most expensive region \n",
    "def most_expensive_region(medical_insurance_data):\n",
    "    charges_by_region = {}\n",
    "    for row in medical_insurance_data:\n",
    "        if row['region'] in charges_by_region:\n",
    "            charges_by_region[row['region']]['charges'] += round(float(row['charges']))\n",
    "            charges_by_region[row['region']]['count'] += 1\n",
    "        else: \n",
    "            charges_by_region[row['region']] = {'charges': float(row['charges']), 'count': 1}\n",
    "            \n",
    "    return charges_by_region\n",
    "           \n",
    "most_expensive_data = most_expensive_region(medical_insurance_data)\n",
    "most_expensive_data\n",
    "\n",
    "for key, values in most_expensive_data.items():\n",
    "    print(f\"The {key} average cost of insurance is ${round(values['charges']/ values['count'], 2)}\")\n"
   ]
  },
  {
   "cell_type": "code",
   "execution_count": 9,
   "metadata": {},
   "outputs": [
    {
     "name": "stdout",
     "output_type": "stream",
     "text": [
      "\n",
      "Although there is a large increase in cost with smoking, from this data there doesn't appear to be an association\n",
      "between BMI and smoking.\n",
      "Out of 274 smokers the average bmi is 31 with an average insurance cost of 32050.\n",
      "Out of 1064 non-smokers the average bmi is 31 with an average insurance cost of 8434.\n",
      "Smoking does not affect BMI, Smoking does affect insurance cost presumably due to its toxic nature and the assumption\n",
      "that smokers will require more medical attention in their lifetime.\n",
      "The smoking population makes up %49 of the total cost but only %20 of the customer base'.\n",
      "\n"
     ]
    }
   ],
   "source": [
    "def smoker_correlations(smoker, bmi, charges):\n",
    "    '''Function to find if smoking and bmi have any correlation using smoker, bmi, charges lists'''\n",
    "#   create dictionaries to hold information on smokers and non smokers\n",
    "    smoker_totals = {\"smoker_cost\": 0, \"smoker_bmi\": 0, \"smoker_count\": 0}\n",
    "    non_smoker_totals = {\"non_smoker_cost\": 0, \"non_smoker_bmi\": 0, \"non_smoker_count\": 0}\n",
    "    \n",
    "#   iterate over lists and collect data\n",
    "    for index, item in enumerate(smoker):\n",
    "        if item == 'yes':\n",
    "            smoker_totals['smoker_cost'] += float(charges[index])\n",
    "            smoker_totals['smoker_bmi'] += float(bmi[index])\n",
    "            smoker_totals['smoker_count'] += 1\n",
    "        else:\n",
    "            non_smoker_totals['non_smoker_cost'] += float(charges[index])\n",
    "            non_smoker_totals['non_smoker_bmi'] += float(bmi[index])\n",
    "            non_smoker_totals['non_smoker_count'] += 1\n",
    "    \n",
    "    st = smoker_totals\n",
    "    nst = non_smoker_totals\n",
    "    \n",
    "    return st, nst\n",
    "  \n",
    "st, nst = smoker_correlations(smoker, bmi, charges)\n",
    "\n",
    "# unpack and assign\n",
    "smoker_cost, smoker_bmi, smoker_count = st.values()\n",
    "non_smoker_cost, non_smoker_bmi, non_smoker_count = nst.values()\n",
    "\n",
    "print(f'''\n",
    "Although there is a large increase in cost with smoking, from this data there doesn't appear to be an association\n",
    "between BMI and smoking.\n",
    "Out of {smoker_count} smokers the average bmi is {round(smoker_bmi / smoker_count)} with an average insurance cost of {round(smoker_cost / smoker_count)}.\n",
    "Out of {non_smoker_count} non-smokers the average bmi is {round(non_smoker_bmi / non_smoker_count)} with an average insurance cost of {round(non_smoker_cost / non_smoker_count)}.\n",
    "Smoking does not affect BMI, Smoking does affect insurance cost presumably due to its toxic nature and the assumption\n",
    "that smokers will require more medical attention in their lifetime.\n",
    "The smoking population makes up %{round(smoker_cost / charges_total(charges) * 100)} of the total cost but only %{round(smoker_count / len(smoker)*100)} of the customer base'.\n",
    "''')\n"
   ]
  },
  {
   "cell_type": "code",
   "execution_count": 11,
   "metadata": {
    "scrolled": false
   },
   "outputs": [
    {
     "name": "stdout",
     "output_type": "stream",
     "text": [
      "{'southeast': {'constant': 1.39, 'base': 1089.612}, 'northeast': {'constant': 1.39, 'base': 1672.6119999999999}, 'northwest': {'constant': 1.39, 'base': 1597.0430000000001}, 'southwest': {'constant': 1.39, 'base': 1214.043}}\n",
      "{'southeast': {'constant': 1.39, 'base': 1578.612}, 'northeast': {'constant': 1.39, 'base': 2161.612}, 'northwest': {'constant': 1.39, 'base': 2086.043}, 'southwest': {'constant': 1.39, 'base': 1703.0430000000001}}\n"
     ]
    },
    {
     "ename": "NameError",
     "evalue": "name 'organized_data' is not defined",
     "output_type": "error",
     "traceback": [
      "\u001b[0;31m---------------------------------------------------------------------------\u001b[0m",
      "\u001b[0;31mNameError\u001b[0m                                 Traceback (most recent call last)",
      "\u001b[0;32m/var/folders/8p/d_tr921n6v355lnj_g9dfbpm0000gn/T/ipykernel_46594/2611268219.py\u001b[0m in \u001b[0;36m<module>\u001b[0;34m\u001b[0m\n\u001b[1;32m     52\u001b[0m \u001b[0;32mwhile\u001b[0m \u001b[0ma\u001b[0m \u001b[0mfemale\u001b[0m \u001b[0;32mfrom\u001b[0m \u001b[0mthe\u001b[0m \u001b[0mnortheast\u001b[0m \u001b[0mhas\u001b[0m \u001b[0ma\u001b[0m \u001b[0mbasecostof\u001b[0m \u001b[0;34m{\u001b[0m\u001b[0mfemale_organized_data\u001b[0m\u001b[0;34m[\u001b[0m\u001b[0;34m'northeast'\u001b[0m\u001b[0;34m]\u001b[0m\u001b[0;34m[\u001b[0m\u001b[0;34m'base'\u001b[0m\u001b[0;34m]\u001b[0m\u001b[0;34m}\u001b[0m\u001b[0;34m.\u001b[0m\u001b[0;34m\u001b[0m\u001b[0;34m\u001b[0m\u001b[0m\n\u001b[1;32m     53\u001b[0m \u001b[0mFurthermore\u001b[0m \u001b[0mwhat\u001b[0m \u001b[0mthis\u001b[0m \u001b[0mdata\u001b[0m \u001b[0malso\u001b[0m \u001b[0mconcludes\u001b[0m \u001b[0;32mis\u001b[0m \u001b[0ma\u001b[0m \u001b[0mdifference\u001b[0m \u001b[0;32min\u001b[0m \u001b[0mbase\u001b[0m \u001b[0mcharge\u001b[0m \u001b[0mby\u001b[0m \u001b[0mregion\u001b[0m\u001b[0;34m,\u001b[0m \u001b[0mthe\u001b[0m \u001b[0mnortheast\u001b[0m\u001b[0;34m:\u001b[0m\u001b[0;34m\u001b[0m\u001b[0;34m\u001b[0m\u001b[0m\n\u001b[0;32m---> 54\u001b[0;31m \u001b[0;34m{\u001b[0m\u001b[0mround\u001b[0m\u001b[0;34m(\u001b[0m\u001b[0morganized_data\u001b[0m\u001b[0;34m[\u001b[0m\u001b[0;34m'northeast'\u001b[0m\u001b[0;34m]\u001b[0m\u001b[0;34m[\u001b[0m\u001b[0;34m'base'\u001b[0m\u001b[0;34m]\u001b[0m\u001b[0;34m,\u001b[0m \u001b[0;36m2\u001b[0m\u001b[0;34m)\u001b[0m\u001b[0;34m}\u001b[0m \u001b[0mbeing\u001b[0m \u001b[0mthe\u001b[0m \u001b[0mmost\u001b[0m \u001b[0;32mwhile\u001b[0m \u001b[0mthe\u001b[0m \u001b[0msoutheast\u001b[0m\u001b[0;34m:\u001b[0m \u001b[0;34m{\u001b[0m\u001b[0mround\u001b[0m\u001b[0;34m(\u001b[0m\u001b[0morganized_data\u001b[0m\u001b[0;34m[\u001b[0m\u001b[0;34m'southeast'\u001b[0m\u001b[0;34m]\u001b[0m\u001b[0;34m[\u001b[0m\u001b[0;34m'base'\u001b[0m\u001b[0;34m]\u001b[0m\u001b[0;34m,\u001b[0m \u001b[0;36m2\u001b[0m\u001b[0;34m)\u001b[0m\u001b[0;34m}\u001b[0m \u001b[0mbeing\u001b[0m \u001b[0mthe\u001b[0m \u001b[0mleast\u001b[0m\u001b[0;34m,\u001b[0m \u001b[0moverall\u001b[0m \u001b[0mthe\u001b[0m \u001b[0mnorth\u001b[0m \u001b[0mshowing\u001b[0m \u001b[0mhigher\u001b[0m \u001b[0mbase\u001b[0m \u001b[0mcharges\u001b[0m\u001b[0;34m,\u001b[0m\u001b[0;34m\u001b[0m\u001b[0;34m\u001b[0m\u001b[0m\n\u001b[0m\u001b[1;32m     55\u001b[0m \u001b[0mone\u001b[0m \u001b[0mcould\u001b[0m \u001b[0mstudy\u001b[0m \u001b[0minto\u001b[0m \u001b[0meconomics\u001b[0m \u001b[0mof\u001b[0m \u001b[0mthese\u001b[0m \u001b[0mareas\u001b[0m \u001b[0mto\u001b[0m \u001b[0mbetter\u001b[0m \u001b[0munderstand\u001b[0m \u001b[0mwhy\u001b[0m\u001b[0;34m.\u001b[0m\u001b[0;34m\u001b[0m\u001b[0;34m\u001b[0m\u001b[0m\n\u001b[1;32m     56\u001b[0m ''')\n",
      "\u001b[0;31mNameError\u001b[0m: name 'organized_data' is not defined"
     ]
    }
   ],
   "source": [
    "def base_costs_by_region_and_bmi(reg, sex):\n",
    "    \n",
    "    bmi_constants = []\n",
    "    base_amounts = []\n",
    "    for num in range(18, 60):\n",
    "        lst = filter(lambda x: (x['smoker'] == 'no' \n",
    "                          and x['age'] == str(num) \n",
    "                          and x['children'] == '0' \n",
    "                          and x['sex'] == sex\n",
    "                          and x['region'] == reg), medical_insurance_data)\n",
    "    \n",
    "    \n",
    "        srt_lst = sorted([*lst], key=lambda y: round(float(y['charges'])))\n",
    "        \n",
    "        if len(srt_lst) > 1:\n",
    "            first_charges = float(srt_lst[0]['charges'])\n",
    "            last_charges = float(srt_lst[1]['charges'])\n",
    "            first_bmi = float(srt_lst[0]['bmi'])\n",
    "            last_bmi = float(srt_lst[1]['bmi'])\n",
    "            \n",
    "            bmi_increase = round((last_charges - first_charges)/(last_bmi - first_bmi), 5)\n",
    "            bmi_constants.append(bmi_increase)\n",
    "            base_amount = first_charges - (first_bmi * bmi_increase)\n",
    "            base_amounts.append(base_amount)\n",
    "            \n",
    "    return reg, sorted(bmi_constants)[round(len(bmi_constants)/2)], base_amounts[0]\n",
    "\n",
    "\n",
    "def organize_bmi_data(sex):    \n",
    "    regions = set(region)\n",
    "    data = {}\n",
    "    for area in regions:\n",
    "        reg, constant, base = base_costs_by_region_and_bmi(area,sex)\n",
    "        data[reg] = {\"constant\": constant, \"base\": base}\n",
    "    return data\n",
    "\n",
    "male_organized_data = organize_bmi_data('male')\n",
    "print(male_organized_data)\n",
    "mswadd = round(20.0 * male_organized_data['southeast']['constant'],2)\n",
    "mswbase = male_organized_data['southeast']['base']\n",
    "\n",
    "female_organized_data = organize_bmi_data('female')\n",
    "print(female_organized_data)\n",
    "fswadd = round(20.0 * female_organized_data['southeast']['constant'],2)\n",
    "fswbase = female_organized_data['southeast']['base']\n",
    "\n",
    "print(f'''\n",
    "This algorithm concludes with charge increase constant for BMI with the only other factors being sex and region, \n",
    "a bmi constant of {male_organized_data['southeast']['constant']} per 0.1 increase in BMI. For example an 18 year old with a BMI of 20.0 will have an \n",
    "additional {mswadd} for a total of charge of {mswadd + mswbase}. \n",
    "Another thing to consider is the base cost between gender e.g. male from the northeast has a base cost of {male_organized_data['southeast']['base']} \n",
    "while a female from the northeast has a basecostof {female_organized_data['northeast']['base']}. \n",
    "Furthermore what this data also concludes is a difference in base charge by region, the northeast: \n",
    "{round(organized_data['northeast']['base'], 2)} being the most while the southeast: {round(organized_data['southeast']['base'], 2)} being the least, overall the north showing higher base charges, \n",
    "one could study into economics of these areas to better understand why.\n",
    "''')"
   ]
  },
  {
   "cell_type": "code",
   "execution_count": null,
   "metadata": {},
   "outputs": [],
   "source": []
  },
  {
   "cell_type": "code",
   "execution_count": null,
   "metadata": {},
   "outputs": [],
   "source": []
  }
 ],
 "metadata": {
  "kernelspec": {
   "display_name": "Python 3 (ipykernel)",
   "language": "python",
   "name": "python3"
  },
  "language_info": {
   "codemirror_mode": {
    "name": "ipython",
    "version": 3
   },
   "file_extension": ".py",
   "mimetype": "text/x-python",
   "name": "python",
   "nbconvert_exporter": "python",
   "pygments_lexer": "ipython3",
   "version": "3.9.7"
  }
 },
 "nbformat": 4,
 "nbformat_minor": 4
}
